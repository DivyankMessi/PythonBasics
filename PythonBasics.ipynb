{
 "cells": [
  {
   "cell_type": "markdown",
   "metadata": {},
   "source": [
    "# Python Basics"
   ]
  },
  {
   "cell_type": "markdown",
   "metadata": {},
   "source": [
    "## Theory Questions"
   ]
  },
  {
   "cell_type": "markdown",
   "metadata": {},
   "source": [
    "### Question 1 : What is Python, and why is it popular?\n",
    "Answer : Python is a popular programming language that is used in many different areas, including web development, data science, and machine learning , artificial intelligent.Python is popular because it's easy to learn, efficient, and can run on many different platforms. It's also versatile, flexible, and has a robust community and mature resources available."
   ]
  },
  {
   "cell_type": "markdown",
   "metadata": {},
   "source": [
    "### Question 2 : What is an interpreter in Python?\n",
    "Answer :  Python interpreter is a computer program that reads and executes Python code line by line. First ,it translates Python code into bytecode and then execute the bytecode."
   ]
  },
  {
   "cell_type": "markdown",
   "metadata": {},
   "source": [
    "### Question 3 : What are pre-defined keywords in Python?\n",
    "Answer : Pre-defined keywords in Python are reserved words that have a specific meaning and purpose in the language. For eg , import , for , while , etc."
   ]
  },
  {
   "cell_type": "markdown",
   "metadata": {},
   "source": [
    "### Question 4 : Can keywords be used as variable names?\n",
    "Answer : No , Keywords can not be used as variable names."
   ]
  },
  {
   "cell_type": "markdown",
   "metadata": {},
   "source": [
    "### Question 5 : What is mutability in Python?\n",
    "Answer : In Python, mutability is the ability of an object to change after it has been created. \n",
    "For example , List is mutabil in nature means that it can be changed once it is created."
   ]
  },
  {
   "cell_type": "markdown",
   "metadata": {},
   "source": [
    "### Question 6 : Why are lists mutable, but tuples are immutable?\n",
    "Answer : The main difference between tuples and lists is that tuples are immutable, meaning their contents cannot be changed after creation, while lists are mutable and can be modified. Additionally, tuples are more memory-efficient compared to lists. Tuples can't be changed after they're created, but lists can be modified.This immutability makes tuples a reliable choice for storing fixed collections of data."
   ]
  },
  {
   "cell_type": "markdown",
   "metadata": {},
   "source": [
    "### Question 7 : What is the difference between “==” and “is” operators in Python ?\n",
    "Answer : The main difference between the \"==\" and is operators in Python is that \"==\" compares the values of two objects, while \"is\" checks if the objects are identical."
   ]
  },
  {
   "cell_type": "markdown",
   "metadata": {},
   "source": [
    "### Question 8 : What are logical operators in Python?\n",
    "Answer : Logical operators in Python are special characters or symbols that evaluate multiple conditions and determine the truth value of an expression. There are three logical operators in Python : and , or , not."
   ]
  },
  {
   "cell_type": "markdown",
   "metadata": {},
   "source": [
    "### Question 9 : What is type casting in Python?\n",
    "Answer : Type casting in Python is the process of converting a variable's data type from one type to another. For example, you can use type casting to change a variable from an integer to a float."
   ]
  },
  {
   "cell_type": "markdown",
   "metadata": {},
   "source": [
    "### Questions 10 : What is the difference between implicit and explicit type casting?\n",
    "Answer : The main difference between implicit and explicit type casting is that implicit type casting is automatic, while explicit type casting is manual.\n",
    "\n",
    "Implicit\n",
    "Python automatically converts the data type. For example, when you add an integer to a float, Python automatically converts the integer to a float. \n",
    "\n",
    "Explicit\n",
    "You use predefined functions to convert the data type. For example, you can use the int(), float(), or str() functions to convert a variable's data type."
   ]
  },
  {
   "cell_type": "markdown",
   "metadata": {},
   "source": [
    "### Questions 11 : What is the purpose of conditional statements in Python?\n",
    "Answer : The purpose of conditional statements in Python is to control the flow of a program by making decisions based on certain conditions."
   ]
  },
  {
   "cell_type": "markdown",
   "metadata": {},
   "source": [
    "### Questions 12 : How does the elif statement work?\n",
    "Asnwer : In Python, elif is short for \"else if\" and it is used when the first if statement is not true, but you want to check for another condition."
   ]
  },
  {
   "cell_type": "markdown",
   "metadata": {},
   "source": [
    "### Questions 13 : What is the difference between for and while loops?\n",
    "Answer : The main difference between a for loop and a while loop is that for loop is used when the number of repetitions is known, while a while loop is used when the number of repetitions is unknown or not known."
   ]
  },
  {
   "cell_type": "markdown",
   "metadata": {},
   "source": [
    "### Questions 14 : Describe a scenario where a while loop is more suitable than a for loop.\n",
    "Answer : \"While\" loop is more suitable than a \"for\" loop when the number of repetitions/iterations is not known. "
   ]
  },
  {
   "cell_type": "markdown",
   "metadata": {},
   "source": [
    "## Practical Questions"
   ]
  },
  {
   "cell_type": "markdown",
   "metadata": {},
   "source": [
    "### Question 1 :  Write a Python program to print \"Hello, World!\""
   ]
  },
  {
   "cell_type": "code",
   "execution_count": 35,
   "metadata": {},
   "outputs": [
    {
     "name": "stdout",
     "output_type": "stream",
     "text": [
      "Hello, World!\n"
     ]
    }
   ],
   "source": [
    "print(\"Hello, World!\")"
   ]
  },
  {
   "cell_type": "markdown",
   "metadata": {},
   "source": [
    "### Question 2 :  Write a Python program that displays your name and age."
   ]
  },
  {
   "cell_type": "code",
   "execution_count": 36,
   "metadata": {},
   "outputs": [
    {
     "name": "stdout",
     "output_type": "stream",
     "text": [
      "My name is :  Divyank Singh\n",
      "My age is :  27\n"
     ]
    }
   ],
   "source": [
    "my_name = \"Divyank Singh\"\n",
    "my_age = 27\n",
    "print(\"My name is : \",my_name)\n",
    "print(\"My age is : \",my_age)"
   ]
  },
  {
   "cell_type": "markdown",
   "metadata": {},
   "source": [
    "### Question 3 : Write code to print all the pre-defined keywords in Python using the keyword library."
   ]
  },
  {
   "cell_type": "code",
   "execution_count": 37,
   "metadata": {},
   "outputs": [
    {
     "name": "stdout",
     "output_type": "stream",
     "text": [
      "['False', 'None', 'True', 'and', 'as', 'assert', 'async', 'await', 'break', 'class', 'continue', 'def', 'del', 'elif', 'else', 'except', 'finally', 'for', 'from', 'global', 'if', 'import', 'in', 'is', 'lambda', 'nonlocal', 'not', 'or', 'pass', 'raise', 'return', 'try', 'while', 'with', 'yield']\n"
     ]
    }
   ],
   "source": [
    "import keyword\n",
    "keyword_list = keyword.kwlist\n",
    "print(keyword_list)"
   ]
  },
  {
   "cell_type": "code",
   "execution_count": 38,
   "metadata": {},
   "outputs": [
    {
     "name": "stdout",
     "output_type": "stream",
     "text": [
      "\n",
      "Here is a list of the Python keywords.  Enter any keyword to get more help.\n",
      "\n",
      "False               class               from                or\n",
      "None                continue            global              pass\n",
      "True                def                 if                  raise\n",
      "and                 del                 import              return\n",
      "as                  elif                in                  try\n",
      "assert              else                is                  while\n",
      "async               except              lambda              with\n",
      "await               finally             nonlocal            yield\n",
      "break               for                 not                 \n",
      "\n"
     ]
    }
   ],
   "source": [
    "help('keywords')"
   ]
  },
  {
   "cell_type": "markdown",
   "metadata": {},
   "source": [
    "### Question 4 : Write a program that checks if a given word is a Python keyword."
   ]
  },
  {
   "cell_type": "code",
   "execution_count": 39,
   "metadata": {},
   "outputs": [
    {
     "name": "stdout",
     "output_type": "stream",
     "text": [
      "Enter a word to check whether it is a keyword or not : Divyank\n",
      "Given word is not a keyword\n"
     ]
    }
   ],
   "source": [
    "import keyword\n",
    "keyword_list = keyword.kwlist\n",
    "given_word = input(\"Enter a word to check whether it is a keyword or not : \")\n",
    "\n",
    "if given_word in keyword_list:\n",
    "    print (\"Given word is a keyword\")\n",
    "else:\n",
    "    print(\"Given word is not a keyword\")"
   ]
  },
  {
   "cell_type": "code",
   "execution_count": 40,
   "metadata": {},
   "outputs": [
    {
     "name": "stdout",
     "output_type": "stream",
     "text": [
      "Enter a word to check whether it is a keyword or not : True\n",
      "Given word is a keyword\n"
     ]
    }
   ],
   "source": [
    "import keyword\n",
    "keyword_list = keyword.kwlist\n",
    "given_word = input(\"Enter a word to check whether it is a keyword or not : \")\n",
    "\n",
    "if given_word in keyword_list:\n",
    "    print (\"Given word is a keyword\")\n",
    "else:\n",
    "    print(\"Given word is not a keyword\")"
   ]
  },
  {
   "cell_type": "markdown",
   "metadata": {},
   "source": [
    "### Question 5 : Create a list and tuple in Python, and demonstrate how attempting to change an element works differently for each."
   ]
  },
  {
   "cell_type": "code",
   "execution_count": 43,
   "metadata": {},
   "outputs": [
    {
     "name": "stdout",
     "output_type": "stream",
     "text": [
      "Original list: [1, 2, 3, 4]\n",
      "Modified list: [1, 2, 99, 4]\n"
     ]
    }
   ],
   "source": [
    "my_list = [1, 2, 3, 4]\n",
    "\n",
    "print(\"Original list:\", my_list)\n",
    "\n",
    "#Changing an element in a list\n",
    "my_list[2] = 99 #Modifying the 3rd element of the list.\n",
    "print(\"Modified list:\", my_list)"
   ]
  },
  {
   "cell_type": "code",
   "execution_count": 42,
   "metadata": {},
   "outputs": [
    {
     "name": "stdout",
     "output_type": "stream",
     "text": [
      "Original tuple: (1, 2, 3, 4)\n"
     ]
    },
    {
     "ename": "TypeError",
     "evalue": "'tuple' object does not support item assignment",
     "output_type": "error",
     "traceback": [
      "\u001b[1;31m---------------------------------------------------------------------------\u001b[0m",
      "\u001b[1;31mTypeError\u001b[0m                                 Traceback (most recent call last)",
      "\u001b[1;32m<ipython-input-42-eb50d1d882ef>\u001b[0m in \u001b[0;36m<module>\u001b[1;34m\u001b[0m\n\u001b[0;32m      4\u001b[0m \u001b[1;33m\u001b[0m\u001b[0m\n\u001b[0;32m      5\u001b[0m \u001b[1;31m#Trying to change an element in the tuple.\u001b[0m\u001b[1;33m\u001b[0m\u001b[1;33m\u001b[0m\u001b[1;33m\u001b[0m\u001b[0m\n\u001b[1;32m----> 6\u001b[1;33m \u001b[0mmy_tuple\u001b[0m\u001b[1;33m[\u001b[0m\u001b[1;36m2\u001b[0m\u001b[1;33m]\u001b[0m \u001b[1;33m=\u001b[0m \u001b[1;36m99\u001b[0m\u001b[1;33m\u001b[0m\u001b[1;33m\u001b[0m\u001b[0m\n\u001b[0m\u001b[0;32m      7\u001b[0m \u001b[0mprint\u001b[0m\u001b[1;33m(\u001b[0m\u001b[1;34m\"Modified Tuple:\"\u001b[0m\u001b[1;33m,\u001b[0m \u001b[0mmy_tuple\u001b[0m\u001b[1;33m)\u001b[0m\u001b[1;33m\u001b[0m\u001b[1;33m\u001b[0m\u001b[0m\n",
      "\u001b[1;31mTypeError\u001b[0m: 'tuple' object does not support item assignment"
     ]
    }
   ],
   "source": [
    "my_tuple = (1, 2, 3, 4)\n",
    "\n",
    "print(\"Original tuple:\", my_tuple)\n",
    "\n",
    "#Trying to change an element in the tuple.\n",
    "my_tuple[2] = 99\n",
    "print(\"Modified Tuple:\", my_tuple)   "
   ]
  },
  {
   "cell_type": "markdown",
   "metadata": {},
   "source": [
    "#### It throws error \"Tuple object doest not support item assignment\". It is because List is mutable in nature which means it can be changes after is created while Tuple is not. Tuple is immutable."
   ]
  },
  {
   "cell_type": "markdown",
   "metadata": {},
   "source": [
    "### Question 6 : Write a function to demonstrate the behavior of mutable and immutable arguments."
   ]
  },
  {
   "cell_type": "code",
   "execution_count": 44,
   "metadata": {},
   "outputs": [
    {
     "name": "stdout",
     "output_type": "stream",
     "text": [
      "Before Fucntion Call\n",
      "Mutable Argument [1, 2, 4, 10]\n",
      "Immutable Argument 10\n",
      "Inside Fucntion\n",
      "Mutable Argument [1, 2, 4, 10, 100]\n",
      "Immutable Argument 11\n",
      "After Fucntion Call\n",
      "Mutable Argument [1, 2, 4, 10, 100]\n",
      "Immutable Argument 10\n"
     ]
    }
   ],
   "source": [
    "def modifying_arguments(mutable_argument , immutable_argument):\n",
    "    mutable_argument.append(100) #Taking List as an example for mutable.\n",
    "    immutable_argument+=1 #taking Integer as an example for immutable.\n",
    "    \n",
    "    print(\"Inside Fucntion\")\n",
    "    print(\"Mutable Argument\" , mutable_argument)\n",
    "    print(\"Immutable Argument\" , immutable_argument)\n",
    "    \n",
    "# Initializing mutable and immutable arguments\n",
    "mutable_example = [1,2,4,10]\n",
    "immutable_example = 10\n",
    "\n",
    "print(\"Before Fucntion Call\")\n",
    "print(\"Mutable Argument\" , mutable_example)\n",
    "print(\"Immutable Argument\" , immutable_example)\n",
    "\n",
    "modifying_arguments(mutable_example , immutable_example)\n",
    "\n",
    "print(\"After Fucntion Call\")\n",
    "print(\"Mutable Argument\" , mutable_example) #Value got changed as List is mutable\n",
    "print(\"Immutable Argument\" , immutable_example) #Value does not changed as Integer is immutable"
   ]
  },
  {
   "cell_type": "markdown",
   "metadata": {},
   "source": [
    "### Question 7 : Question 6 got repeated. (Question 6 and Question 7 are same.)"
   ]
  },
  {
   "cell_type": "markdown",
   "metadata": {},
   "source": [
    "### Question 8 : Write a program to demonstrate the use of logical operators."
   ]
  },
  {
   "cell_type": "code",
   "execution_count": 45,
   "metadata": {},
   "outputs": [
    {
     "name": "stdout",
     "output_type": "stream",
     "text": [
      "Enter a number x: 10\n",
      "Enter a number y: 10\n",
      "Logical 'and' operator:\n",
      "Both x and y are positive.\n",
      "Logical 'or' operator:\n",
      "At least one of x or y is positive.\n",
      "Logical 'not' operator:\n",
      "x is positive.\n"
     ]
    }
   ],
   "source": [
    "x = int(input(\"Enter a number x: \"))\n",
    "y = int(input(\"Enter a number y: \"))\n",
    "\n",
    "# Demonstrating 'and' operator\n",
    "print(\"Logical 'and' operator:\")\n",
    "if x > 0 and y > 0:\n",
    "    print(\"Both x and y are positive.\")\n",
    "else:\n",
    "    print(\"At least one of x or y is not positive.\")\n",
    "\n",
    "# Demonstrating 'or' operator\n",
    "print(\"Logical 'or' operator:\")\n",
    "if x > 0 or y > 0:\n",
    "    print(\"At least one of x or y is positive.\")\n",
    "else:\n",
    "    print(\"Neither x nor y is positive.\")\n",
    "\n",
    "# Demonstrating 'not' operator\n",
    "print(\"Logical 'not' operator:\")\n",
    "if not (x > 0):\n",
    "    print(\"x is not positive.\")\n",
    "else:\n",
    "    print(\"x is positive.\")"
   ]
  },
  {
   "cell_type": "markdown",
   "metadata": {},
   "source": [
    "### Question 9 :Write a Python program to convert user input from string to integer, float, and boolean types?"
   ]
  },
  {
   "cell_type": "code",
   "execution_count": 46,
   "metadata": {},
   "outputs": [
    {
     "name": "stdout",
     "output_type": "stream",
     "text": [
      "Enter a value: 10\n",
      "10\n",
      "10.0\n",
      "True\n"
     ]
    }
   ],
   "source": [
    "user_input = input(\"Enter a value: \")\n",
    "print(int(user_input))\n",
    "print(float(user_input))\n",
    "print(bool(user_input))"
   ]
  },
  {
   "cell_type": "markdown",
   "metadata": {},
   "source": [
    "#### It will throw an error if it can not convert from one data type to another."
   ]
  },
  {
   "cell_type": "markdown",
   "metadata": {},
   "source": [
    "### Question 10 : Write code to demonstrate type casting with list elements."
   ]
  },
  {
   "cell_type": "code",
   "execution_count": 47,
   "metadata": {},
   "outputs": [
    {
     "name": "stdout",
     "output_type": "stream",
     "text": [
      "10\n",
      "1.0\n",
      "10\n",
      "['Divyank', 10, 1.0, '10', True]\n"
     ]
    }
   ],
   "source": [
    "mylist = [\"Divyank\" ,\"10\", 1 , 10 , True]\n",
    "mylist[1] = int(mylist[1]) #typeCasting string into integer\n",
    "mylist[2] = float(mylist[2]) #typeCasting int into float\n",
    "mylist[3] = str(mylist[3]) #typeCasting int into String\n",
    "print(int(mylist[1]))\n",
    "print(float(mylist[2]))\n",
    "print(str(mylist[3]))\n",
    "print(mylist)"
   ]
  },
  {
   "cell_type": "markdown",
   "metadata": {},
   "source": [
    "### Question 11 : Write a program that checks if a number is positive, negative, or zero."
   ]
  },
  {
   "cell_type": "code",
   "execution_count": 48,
   "metadata": {},
   "outputs": [
    {
     "name": "stdout",
     "output_type": "stream",
     "text": [
      "Enter any number : 10\n",
      "Entered number is positive.\n"
     ]
    }
   ],
   "source": [
    "user_input = int(input(\"Enter any number : \"))\n",
    "\n",
    "if user_input == 0 :\n",
    "    print(\"Entered number is Zero.\")\n",
    "elif user_input > 0 :\n",
    "    print(\"Entered number is positive.\")\n",
    "else:\n",
    "    print(\"Entered number is negative.\")"
   ]
  },
  {
   "cell_type": "markdown",
   "metadata": {},
   "source": [
    "### Question 12 : Write a for loop to print numbers from 1 to 10"
   ]
  },
  {
   "cell_type": "code",
   "execution_count": 49,
   "metadata": {},
   "outputs": [
    {
     "name": "stdout",
     "output_type": "stream",
     "text": [
      "1\n",
      "2\n",
      "3\n",
      "4\n",
      "5\n",
      "6\n",
      "7\n",
      "8\n",
      "9\n",
      "10\n"
     ]
    }
   ],
   "source": [
    "for i in range(1,11):\n",
    "    print(i)"
   ]
  },
  {
   "cell_type": "markdown",
   "metadata": {},
   "source": [
    "### Question 13 : Write a Python program to find the sum of all even numbers between 1 and 50"
   ]
  },
  {
   "cell_type": "code",
   "execution_count": 50,
   "metadata": {},
   "outputs": [
    {
     "name": "stdout",
     "output_type": "stream",
     "text": [
      "Sum of all even numbers between 1 and 50 :  650\n"
     ]
    }
   ],
   "source": [
    "sum_count = 0 #Counter to store the sum.\n",
    "for i in range(1,51):\n",
    "    if (i%2) == 0 :\n",
    "        sum_count = sum_count + i\n",
    "print(\"Sum of all even numbers between 1 and 50 : \",sum_count)        "
   ]
  },
  {
   "cell_type": "markdown",
   "metadata": {},
   "source": [
    "### Question 14 : Write a program to reverse a string using a while loop"
   ]
  },
  {
   "cell_type": "code",
   "execution_count": 51,
   "metadata": {},
   "outputs": [
    {
     "name": "stdout",
     "output_type": "stream",
     "text": [
      "Enter a string : Divyank\n",
      "Reverse string :  knayviD\n"
     ]
    }
   ],
   "source": [
    "user_input = input(\"Enter a string : \")\n",
    "last_index = len(user_input)-1 #starting indexing from the last\n",
    "reversed_string = \"\" #Empty string to store string character starting from the last.\n",
    "\n",
    "while last_index >= 0 :\n",
    "    reversed_string = reversed_string + user_input[last_index]\n",
    "    last_index -= 1 \n",
    "\n",
    "print(\"Reverse string : \",reversed_string)"
   ]
  },
  {
   "cell_type": "markdown",
   "metadata": {},
   "source": [
    "### Question 15 : Write a Python program to calculate the factorial of a number provided by the user using a while loop."
   ]
  },
  {
   "cell_type": "code",
   "execution_count": 52,
   "metadata": {},
   "outputs": [
    {
     "name": "stdout",
     "output_type": "stream",
     "text": [
      "Enter a number 10\n",
      "Factorial of given number is :  3628800\n"
     ]
    }
   ],
   "source": [
    "user_input = int(input(\"Enter a number \"))\n",
    "factorial = 1 \n",
    "while user_input > 0 :\n",
    "    factorial = factorial * user_input\n",
    "    user_input-=1\n",
    "\n",
    "print(\"Factorial of given number is : \",factorial)    "
   ]
  },
  {
   "cell_type": "markdown",
   "metadata": {},
   "source": [
    "### Thank You ! "
   ]
  },
  {
   "cell_type": "code",
   "execution_count": null,
   "metadata": {},
   "outputs": [],
   "source": []
  }
 ],
 "metadata": {
  "kernelspec": {
   "display_name": "Python 3",
   "language": "python",
   "name": "python3"
  },
  "language_info": {
   "codemirror_mode": {
    "name": "ipython",
    "version": 3
   },
   "file_extension": ".py",
   "mimetype": "text/x-python",
   "name": "python",
   "nbconvert_exporter": "python",
   "pygments_lexer": "ipython3",
   "version": "3.7.3"
  }
 },
 "nbformat": 4,
 "nbformat_minor": 2
}
